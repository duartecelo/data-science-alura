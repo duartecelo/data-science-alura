{
  "nbformat": 4,
  "nbformat_minor": 0,
  "metadata": {
    "colab": {
      "provenance": [],
      "toc_visible": true,
      "include_colab_link": true
    },
    "kernelspec": {
      "name": "python3",
      "display_name": "Python 3"
    },
    "language_info": {
      "name": "python"
    }
  },
  "cells": [
    {
      "cell_type": "markdown",
      "metadata": {
        "id": "view-in-github",
        "colab_type": "text"
      },
      "source": [
        "<a href=\"https://colab.research.google.com/github/duartecelo/data-science-alura/blob/main/atividades-curso-1.ipynb\" target=\"_parent\"><img src=\"https://colab.research.google.com/assets/colab-badge.svg\" alt=\"Open In Colab\"/></a>"
      ]
    },
    {
      "cell_type": "markdown",
      "source": [
        "# Sobre o notebook\n",
        "\n",
        "A \"hora da prática\" é uma atividade do curso de Python para Data Science da Alura que contém diversos desafios envolvendo os aprendizados de cada aula.\n",
        "\n",
        "O notebook \"hora da pratica\" é um notebook construído com espaço para as células dos desafios propostos no curso, com ele você tem espaço para construir e executar suas soluções"
      ],
      "metadata": {
        "id": "_kwAaQ36gLQ1"
      }
    },
    {
      "cell_type": "markdown",
      "source": [
        "## Aula 1 - Introdução ao Python"
      ],
      "metadata": {
        "id": "Mc-KN0dA0Z83"
      }
    },
    {
      "cell_type": "markdown",
      "source": [
        "### Questão 1\n",
        "\n",
        "Imprima a frase `Escola de Dados da Alura!`"
      ],
      "metadata": {
        "id": "l5eLWf0W0ikn"
      }
    },
    {
      "cell_type": "code",
      "source": [
        "print('Escola de Dados da Alura!')"
      ],
      "metadata": {
        "id": "5pllxJ0h0-yA",
        "colab": {
          "base_uri": "https://localhost:8080/"
        },
        "outputId": "c849022f-15b2-4bc4-b77e-97aeadc035b0"
      },
      "execution_count": null,
      "outputs": [
        {
          "output_type": "stream",
          "name": "stdout",
          "text": [
            "Escola de Dados da Alura!\n"
          ]
        }
      ]
    },
    {
      "cell_type": "markdown",
      "source": [
        "### Questão 2\n",
        "Imprima na tela seu nome e seu sobrenome seguindo a estrutura abaixo:\n",
        "```\n",
        "Nome: [seu nome]\n",
        "Sobrenome: [seu sobrenome]\n",
        "```\n"
      ],
      "metadata": {
        "id": "tQdX90Ue03c7"
      }
    },
    {
      "cell_type": "code",
      "source": [
        "print('Nome: Marcelo')\n",
        "print('Sobrenome: Duarte')"
      ],
      "metadata": {
        "id": "RVw5iKn20_Ps",
        "colab": {
          "base_uri": "https://localhost:8080/"
        },
        "outputId": "6410efa7-fa43-4184-f4a0-05cc593662c7"
      },
      "execution_count": null,
      "outputs": [
        {
          "output_type": "stream",
          "name": "stdout",
          "text": [
            "Nome: Marcelo\n",
            "Sobrenome: Duarte\n"
          ]
        }
      ]
    },
    {
      "cell_type": "markdown",
      "source": [
        "### Questão 3\n",
        "Imprima o seu primeiro nome letra a letra. Por exemplo, nome é Mirla, então eu obtenho a seguinte saída:\n",
        "```\n",
        "M\n",
        "I\n",
        "R\n",
        "L\n",
        "A\n",
        "```\n"
      ],
      "metadata": {
        "id": "gfg-aiip03vC"
      }
    },
    {
      "cell_type": "code",
      "source": [
        "print('M')\n",
        "print('A')\n",
        "print('R')\n",
        "print('C')\n",
        "print('E')\n",
        "print('L')\n",
        "print('O')"
      ],
      "metadata": {
        "id": "v5bkrgf60_qx",
        "colab": {
          "base_uri": "https://localhost:8080/"
        },
        "outputId": "149c9ba5-81c9-49d6-9425-19589f866978"
      },
      "execution_count": null,
      "outputs": [
        {
          "output_type": "stream",
          "name": "stdout",
          "text": [
            "M\n",
            "A\n",
            "R\n",
            "C\n",
            "E\n",
            "L\n",
            "O\n"
          ]
        }
      ]
    },
    {
      "cell_type": "markdown",
      "source": [
        "### Questão 4\n",
        "Imprima o dia do seu nascimento em formato `dia mês ano`. Os valores de dia e ano não podem estar entre aspas. O formato deve estar como no exemplo, supondo uma data de aniversário dia 28 de fevereiro de 2003:\n",
        "```\n",
        "28 fevereiro 2003\n",
        "```"
      ],
      "metadata": {
        "id": "oadrJbl704MM"
      }
    },
    {
      "cell_type": "code",
      "source": [
        "print(1,'julho',2005)"
      ],
      "metadata": {
        "id": "cx0KSsrq1ALD",
        "colab": {
          "base_uri": "https://localhost:8080/"
        },
        "outputId": "6c924e64-2551-4be3-b057-dc8272d5ebf9"
      },
      "execution_count": null,
      "outputs": [
        {
          "output_type": "stream",
          "name": "stdout",
          "text": [
            "1 julho 2005\n"
          ]
        }
      ]
    },
    {
      "cell_type": "markdown",
      "source": [
        "### Questão 5\n",
        "Imprima em um único print o atual ano que você está fazendo esse curso, o valor do ano deve ser um dado numérico. A saída do print deve ser a seguinte:\n",
        "```\n",
        "Ano atual: [ano]\n",
        "```\n"
      ],
      "metadata": {
        "id": "3RgyMaan04TD"
      }
    },
    {
      "cell_type": "code",
      "execution_count": null,
      "metadata": {
        "id": "UN77EfQ2d36Y",
        "colab": {
          "base_uri": "https://localhost:8080/"
        },
        "outputId": "328149fd-f96d-4b42-f38b-f125f18e4e68"
      },
      "outputs": [
        {
          "output_type": "stream",
          "name": "stdout",
          "text": [
            "Ano atual: 2024\n"
          ]
        }
      ],
      "source": [
        "print('Ano atual:',2024)"
      ]
    },
    {
      "cell_type": "markdown",
      "source": [
        "## Aula 2 - Manipulando dados no Python"
      ],
      "metadata": {
        "id": "D9e3FqhO1S3X"
      }
    },
    {
      "cell_type": "markdown",
      "source": [
        "### Coleta e amostragem de dados"
      ],
      "metadata": {
        "id": "n6o7C1Ze2cRe"
      }
    },
    {
      "cell_type": "markdown",
      "source": [
        "#### Questão 1\n",
        "Crie um programa que solicite à pessoa usuária digitar seu nome, e imprima “Olá, [nome]!”."
      ],
      "metadata": {
        "id": "sRneWag9PV5Q"
      }
    },
    {
      "cell_type": "code",
      "source": [
        "nome = input('Digite seu nome: ')\n",
        "print(f'Olá, {nome}!')"
      ],
      "metadata": {
        "id": "dbX1fKqy2HnE",
        "colab": {
          "base_uri": "https://localhost:8080/"
        },
        "outputId": "909d0c71-e2b1-4c57-ae52-31590d98d13a"
      },
      "execution_count": null,
      "outputs": [
        {
          "output_type": "stream",
          "name": "stdout",
          "text": [
            "Digite seu nome: Marcelo\n",
            "Olá, Marcelo!\n"
          ]
        }
      ]
    },
    {
      "cell_type": "markdown",
      "source": [
        "#### Questão 2\n",
        "Crie um programa que solicite à pessoa usuária digitar seu nome e idade, e imprima “Olá, [nome], você tem [idade] anos.”."
      ],
      "metadata": {
        "id": "BJ1SznEp70d5"
      }
    },
    {
      "cell_type": "code",
      "source": [
        "nome = input('Digite seu nome: ')\n",
        "idade = input('Digite sua idade: ')\n",
        "print(f'Olá, {nome}, você tem {idade} anos.')"
      ],
      "metadata": {
        "id": "jKz-0Sq8PFkp",
        "colab": {
          "base_uri": "https://localhost:8080/"
        },
        "outputId": "0ca30372-7434-4e6f-c71b-ff0fe1499e2f"
      },
      "execution_count": null,
      "outputs": [
        {
          "output_type": "stream",
          "name": "stdout",
          "text": [
            "Digite seu nome: Marcelo\n",
            "Digite sua idade: 18\n",
            "Olá, Marcelo, você tem 18 anos.\n"
          ]
        }
      ]
    },
    {
      "cell_type": "markdown",
      "source": [
        "#### Questão 3\n",
        "Crie um programa que solicite à pessoa usuária digitar seu nome, idade e altura em metros, e imprima “Olá, [nome], você tem [idade] anos e mede [altura] metros!”."
      ],
      "metadata": {
        "id": "2T0jNYZt70aa"
      }
    },
    {
      "cell_type": "code",
      "source": [
        "nome = input('Digite seu nome: ')\n",
        "idade = input('Digite sua idade: ')\n",
        "altura = input('Digite sua altura em metros: ')\n",
        "print(f'Olá, {nome}, você tem {idade} anos e mede {altura} metros!')"
      ],
      "metadata": {
        "id": "pI4kHNzTPIXh",
        "colab": {
          "base_uri": "https://localhost:8080/"
        },
        "outputId": "d9994bfa-3004-4169-8ac8-538b57624ac5"
      },
      "execution_count": null,
      "outputs": [
        {
          "output_type": "stream",
          "name": "stdout",
          "text": [
            "Digite seu nome: Marcelo\n",
            "Digite sua idade: 18\n",
            "Digite sua altura em metros: 1,76\n",
            "Olá, Marcelo, você tem 18 anos e mede 1,76 metros!\n"
          ]
        }
      ]
    },
    {
      "cell_type": "markdown",
      "source": [
        "### Calculadora com operadores"
      ],
      "metadata": {
        "id": "mEBFwKkC70KP"
      }
    },
    {
      "cell_type": "markdown",
      "source": [
        "#### Questão 1\n",
        "\n",
        "Crie um programa que solicite dois valores numéricos à pessoa usuária e imprima a soma dos dois valores."
      ],
      "metadata": {
        "id": "H-IV1oAPPSqK"
      }
    },
    {
      "cell_type": "code",
      "source": [
        "valor1 = float(input('Digite o primeiro valor: '))\n",
        "valor2 = float(input('Digite o segundo valor: '))\n",
        "soma = valor1 + valor2\n",
        "print(f'A soma dos valores é {soma}')"
      ],
      "metadata": {
        "id": "Zb0W84sy8rnp",
        "colab": {
          "base_uri": "https://localhost:8080/"
        },
        "outputId": "c60aaa1b-c70f-4dc8-f886-c7270090763c"
      },
      "execution_count": null,
      "outputs": [
        {
          "output_type": "stream",
          "name": "stdout",
          "text": [
            "Digite o primeiro valor: 1.5\n",
            "Digite o segundo valor: 2.5\n",
            "A soma dos valores é: 4.0\n"
          ]
        }
      ]
    },
    {
      "cell_type": "markdown",
      "source": [
        "#### Questão 2\n",
        "Crie um programa que solicite três valores numéricos à pessoa usuária e imprima a soma dos três valores."
      ],
      "metadata": {
        "id": "LUoi2MOu70Em"
      }
    },
    {
      "cell_type": "code",
      "source": [
        "valor1 = float(input('Digite o primeiro valor: '))\n",
        "valor2 = float(input('Digite o segundo valor: '))\n",
        "valor3 = float(input('Digite o terceiro valor: '))\n",
        "soma = valor1 + valor2 + valor3\n",
        "print(f'A soma dos três valores é {soma}')"
      ],
      "metadata": {
        "id": "4FYjWyBS8rDm",
        "colab": {
          "base_uri": "https://localhost:8080/"
        },
        "outputId": "f21c9d24-e507-4f5f-c1b2-6dfdedb8c36d"
      },
      "execution_count": null,
      "outputs": [
        {
          "output_type": "stream",
          "name": "stdout",
          "text": [
            "Digite o primeiro valor: 1\n",
            "Digite o segundo valor: 2\n",
            "Digite o terceiro valor: 3\n",
            "A soma dos três valores é: 6.0\n"
          ]
        }
      ]
    },
    {
      "cell_type": "markdown",
      "source": [
        "#### Questão 3\n",
        "Crie um programa que solicite dois valores numéricos à pessoa usuária e imprima a subtração do primeiro pelo o segundo valor."
      ],
      "metadata": {
        "id": "lezGctF07z8i"
      }
    },
    {
      "cell_type": "code",
      "source": [
        "valor1 = float(input('Digite o primeiro valor: '))\n",
        "valor2 = float(input('Digite o segundo valor: '))\n",
        "subtracao = valor1 - valor2\n",
        "print(f'A subtração dos valores é {subtracao}')"
      ],
      "metadata": {
        "id": "k0GE1z4w8p3J",
        "colab": {
          "base_uri": "https://localhost:8080/"
        },
        "outputId": "912a6bad-15ea-4256-b6d7-cd59c574bbf6"
      },
      "execution_count": null,
      "outputs": [
        {
          "output_type": "stream",
          "name": "stdout",
          "text": [
            "Digite o primeiro valor: 5\n",
            "Digite o segundo valor: 2\n",
            "A subtração dos valores é 3.0\n"
          ]
        }
      ]
    },
    {
      "cell_type": "markdown",
      "source": [
        "#### Questão 4\n",
        "\n",
        "Crie um programa que solicite dois valores numéricos à pessoa usuária e imprima a multiplicação dos dois valores.\n"
      ],
      "metadata": {
        "id": "wwMP-dPU7zxW"
      }
    },
    {
      "cell_type": "code",
      "source": [
        "valor1 = float(input('Digite o primeiro valor: '))\n",
        "valor2 = float(input('Digite o segundo valor: '))\n",
        "multiplicacao = valor1 * valor2\n",
        "print(f'A multiplicação dos valores é {multiplicacao}')"
      ],
      "metadata": {
        "id": "GzFCVHfp8peZ",
        "colab": {
          "base_uri": "https://localhost:8080/"
        },
        "outputId": "061baaf4-e8fb-4824-8281-50a2a8533fff"
      },
      "execution_count": null,
      "outputs": [
        {
          "output_type": "stream",
          "name": "stdout",
          "text": [
            "Digite o primeiro valor: 5\n",
            "Digite o segundo valor: 2\n",
            "A multiplicação dos valores é 10.0\n"
          ]
        }
      ]
    },
    {
      "cell_type": "markdown",
      "source": [
        "#### Questão 5\n",
        "\n",
        "Crie um programa que solicite dois valores numéricos, um numerador e um denominador, e realize a divisão entre os dois valores. Deixe claro que o valor do denominador não pode ser `0`.\n"
      ],
      "metadata": {
        "id": "9kxyHxUo7zRD"
      }
    },
    {
      "cell_type": "code",
      "source": [
        "valor1 = float(input('Digite o numerador: '))\n",
        "valor2 = float(input('Digite o denominador (não pode ser 0): '))\n",
        "if valor2 == 0:\n",
        "    print('O denominador não pode ser 0')\n",
        "else:\n",
        "    divisao = valor1 / valor2\n",
        "    print(f'A divisão dos valores é {divisao}')"
      ],
      "metadata": {
        "id": "ytJ8l5KH8ozc",
        "colab": {
          "base_uri": "https://localhost:8080/"
        },
        "outputId": "76962586-86fd-4fbb-c489-9e9f4ab723df"
      },
      "execution_count": null,
      "outputs": [
        {
          "output_type": "stream",
          "name": "stdout",
          "text": [
            "Digite o numerador: 5\n",
            "Digite o denominador: 2\n",
            "A divisão dos valores é 2.5\n"
          ]
        }
      ]
    },
    {
      "cell_type": "markdown",
      "source": [
        "#### Questão 6\n",
        "\n",
        "Crie um programa que solicite dois valores numéricos, um operador e uma potência, e realize a exponenciação entre esses dois valores.\n"
      ],
      "metadata": {
        "id": "zkUSBTQq8Hxt"
      }
    },
    {
      "cell_type": "code",
      "source": [
        "valor1 = float(input('Digite o operador: '))\n",
        "valor2 = float(input('Digite a potência: '))\n",
        "potencia = valor1 ** valor2\n",
        "print(f'{valor1} elevado a {valor2} é {potencia}')"
      ],
      "metadata": {
        "id": "RPj36jq08oZp",
        "colab": {
          "base_uri": "https://localhost:8080/"
        },
        "outputId": "651d485a-2739-4097-87f5-efe27bdf346c"
      },
      "execution_count": null,
      "outputs": [
        {
          "output_type": "stream",
          "name": "stdout",
          "text": [
            "Digite o operador: 5\n",
            "Digite a potência: 2\n",
            "5.0 elevado a 2.0 é 25.0\n"
          ]
        }
      ]
    },
    {
      "cell_type": "markdown",
      "source": [
        "#### Questão 7\n",
        "Crie um programa que solicite dois valores numéricos, um numerador e um denominador e realize a divisão inteira entre os dois valores. Deixe claro que o valor do denominador não pode ser `0`."
      ],
      "metadata": {
        "id": "yiunIusZ8Huj"
      }
    },
    {
      "cell_type": "code",
      "source": [
        "valor1 = float(input('Digite o numerador: '))\n",
        "valor2 = float(input('Digite o denominador (não pode ser 0): '))\n",
        "if valor2 == 0:\n",
        "    print('O denominador não pode ser 0')\n",
        "else:\n",
        "    divisao_inteira = valor1 // valor2\n",
        "    print(f'A divisão dos valores é {divisao_inteira}')"
      ],
      "metadata": {
        "id": "UHK8xITf8oCg",
        "colab": {
          "base_uri": "https://localhost:8080/"
        },
        "outputId": "ab1aae25-0a2e-476a-e19e-4b538d0ddd68"
      },
      "execution_count": null,
      "outputs": [
        {
          "output_type": "stream",
          "name": "stdout",
          "text": [
            "Digite o numerador: 5\n",
            "Digite o denominador (não pode ser 0): 2\n",
            "A divisão dos valores é 2.0\n"
          ]
        }
      ]
    },
    {
      "cell_type": "markdown",
      "source": [
        "#### Questão 8\n",
        "\n",
        "Crie um programa que solicite dois valores numéricos, um numerador e um denominador, e retorne o resto da divisão entre os dois valores. Deixe claro que o valor do denominador não pode ser `0`."
      ],
      "metadata": {
        "id": "z_D_JiLX8Hra"
      }
    },
    {
      "cell_type": "code",
      "source": [
        "valor1 = float(input('Digite o numerador: '))\n",
        "valor2 = float(input('Digite o denominador (não pode ser 0): '))\n",
        "if valor2 == 0:\n",
        "    print('O denominador não pode ser 0')\n",
        "else:\n",
        "    resto = valor1 % valor2\n",
        "    print(f'A divisão dos valores é {resto}')"
      ],
      "metadata": {
        "id": "EWGJeukO8nqx",
        "colab": {
          "base_uri": "https://localhost:8080/"
        },
        "outputId": "3d8ac5d2-6311-422d-84e6-f775a9e129a2"
      },
      "execution_count": null,
      "outputs": [
        {
          "output_type": "stream",
          "name": "stdout",
          "text": [
            "Digite o numerador: 5\n",
            "Digite o denominador (não pode ser 0): 2\n",
            "A divisão dos valores é 1.0\n"
          ]
        }
      ]
    },
    {
      "cell_type": "markdown",
      "source": [
        "#### Questão 9\n",
        "\n",
        "Crie um código que solicita 3 notas de um estudante e imprima a média das notas."
      ],
      "metadata": {
        "id": "RDRajNkU8N8N"
      }
    },
    {
      "cell_type": "code",
      "source": [
        "nota1 = float(input('Digite a primeira nota: '))\n",
        "nota2 = float(input('Digite a segunda nota: '))\n",
        "nota3 = float(input('Digite a terceira nota: '))\n",
        "media = (nota1 + nota2 + nota3) / 3"
      ],
      "metadata": {
        "id": "H6F4Ojzt8nSR"
      },
      "execution_count": null,
      "outputs": []
    },
    {
      "cell_type": "markdown",
      "source": [
        "#### Questão 10\n",
        "\n",
        "Crie um código que calcule e imprima a média ponderada dos números 5, 12, 20 e 15 com pesos respectivamente iguais a 1, 2, 3 e 4."
      ],
      "metadata": {
        "id": "d7fjkne58N21"
      }
    },
    {
      "cell_type": "code",
      "source": [
        "media_ponderada = (5 * 1 + 12 * 2 + 20 * 3 + 15 * 4) / (1 + 2 + 3 + 4)\n",
        "print(media_ponderada)"
      ],
      "metadata": {
        "id": "fwjoHlV48mkv"
      },
      "execution_count": null,
      "outputs": []
    },
    {
      "cell_type": "markdown",
      "source": [
        "### Editando textos"
      ],
      "metadata": {
        "id": "GNmbX1OU8N0V"
      }
    },
    {
      "cell_type": "markdown",
      "source": [
        "#### Questão 1\n",
        "\n",
        "Crie uma variável chamada “`frase`” e atribua a ela uma string de sua escolha. Em seguida, imprima a frase na tela."
      ],
      "metadata": {
        "id": "6wZ85mCsRCV0"
      }
    },
    {
      "cell_type": "code",
      "source": [
        "frase = 'Programar é muito legal'\n",
        "print(frase)"
      ],
      "metadata": {
        "id": "eRqr_gh-8mFy",
        "colab": {
          "base_uri": "https://localhost:8080/"
        },
        "outputId": "6cb92134-d167-4c39-aa33-5fa8040a3ab4"
      },
      "execution_count": null,
      "outputs": [
        {
          "output_type": "stream",
          "name": "stdout",
          "text": [
            "Programar é muito legal\n"
          ]
        }
      ]
    },
    {
      "cell_type": "markdown",
      "source": [
        "#### Questão 2\n",
        "Crie um código que solicite uma frase e depois imprima a frase na tela."
      ],
      "metadata": {
        "id": "Aac17z-18Nwv"
      }
    },
    {
      "cell_type": "code",
      "source": [
        "frase = input('Digite uma frase: ')\n",
        "print(frase)"
      ],
      "metadata": {
        "id": "8zfE2hh98lb0",
        "colab": {
          "base_uri": "https://localhost:8080/"
        },
        "outputId": "4150091b-2e25-494d-97fa-a2105bcc3d40"
      },
      "execution_count": null,
      "outputs": [
        {
          "output_type": "stream",
          "name": "stdout",
          "text": [
            "Digite uma frase: oh yes\n",
            "oh yes\n"
          ]
        }
      ]
    },
    {
      "cell_type": "markdown",
      "source": [
        "#### Questão 3\n",
        "\n",
        "Crie um código que solicite uma frase à pessoa usuária e imprima a mesma frase digitada mas com todas as letras maiúsculas."
      ],
      "metadata": {
        "id": "DXVzqpN58Ntr"
      }
    },
    {
      "cell_type": "code",
      "source": [
        "frase = input('Digite uma frase: ')\n",
        "print(frase.upper())"
      ],
      "metadata": {
        "id": "d0VzoYP68k-I",
        "colab": {
          "base_uri": "https://localhost:8080/"
        },
        "outputId": "f74151d8-f7ae-430d-86cb-f83bfbd0c73b"
      },
      "execution_count": null,
      "outputs": [
        {
          "output_type": "stream",
          "name": "stdout",
          "text": [
            "Digite uma frase: aaaaaaaaaaaa TeStE\n",
            "AAAAAAAAAAAA TESTE\n"
          ]
        }
      ]
    },
    {
      "cell_type": "markdown",
      "source": [
        "#### Questão 4\n",
        "\n",
        "Crie um código que solicite uma frase à pessoa usuária e imprima a mesma frase digitada mas com todas as letras minúsculas."
      ],
      "metadata": {
        "id": "I12VeNPK8Nqb"
      }
    },
    {
      "cell_type": "code",
      "source": [
        "frase = input('Digite uma frase: ')\n",
        "print(frase.lower())"
      ],
      "metadata": {
        "id": "KD8rNy2K8kox",
        "colab": {
          "base_uri": "https://localhost:8080/"
        },
        "outputId": "d1b3571f-b43d-463a-e9db-bce58eea4f95"
      },
      "execution_count": null,
      "outputs": [
        {
          "output_type": "stream",
          "name": "stdout",
          "text": [
            "Digite uma frase: aaaaaaaaa teste\n",
            "aaaaaaaaa teste\n"
          ]
        }
      ]
    },
    {
      "cell_type": "markdown",
      "source": [
        "#### Questão 5\n",
        "\n",
        "Crie uma variável chamada “`frase`” e atribua a ela uma string de sua escolha. Em seguida, imprima a frase sem espaços em branco no início e no fim."
      ],
      "metadata": {
        "id": "cRqngSE48Nog"
      }
    },
    {
      "cell_type": "code",
      "source": [
        "frase = '            Frase boa       '\n",
        "print(frase.strip())"
      ],
      "metadata": {
        "id": "aSCpdF-o8kBs",
        "colab": {
          "base_uri": "https://localhost:8080/"
        },
        "outputId": "db097fc9-97de-4548-839d-4b4baf1b3ce2"
      },
      "execution_count": null,
      "outputs": [
        {
          "output_type": "stream",
          "name": "stdout",
          "text": [
            "Frase boa\n"
          ]
        }
      ]
    },
    {
      "cell_type": "markdown",
      "source": [
        "#### Questão 6\n",
        "\n",
        "Crie um código que solicite uma frase à pessoa usuária e imprima a mesma frase sem espaços em branco no início e no fim."
      ],
      "metadata": {
        "id": "murIazpQ8Nkv"
      }
    },
    {
      "cell_type": "code",
      "source": [
        "print(input('Digite uma frase: ').strip())"
      ],
      "metadata": {
        "id": "tHunjwuG8jNq",
        "colab": {
          "base_uri": "https://localhost:8080/"
        },
        "outputId": "667edc00-9040-48e1-8da7-b372316d2cf5"
      },
      "execution_count": null,
      "outputs": [
        {
          "output_type": "stream",
          "name": "stdout",
          "text": [
            "Digite uma frase:                      teste     \n",
            "teste\n"
          ]
        }
      ]
    },
    {
      "cell_type": "markdown",
      "source": [
        "#### Questão 7\n",
        "\n",
        "\n",
        "Crie um código que solicite uma frase à pessoa usuária e imprima a mesma frase sem espaços em branco no início e no fim e em letras minúsculas."
      ],
      "metadata": {
        "id": "eRxc2OeX8Nh2"
      }
    },
    {
      "cell_type": "code",
      "source": [
        "print(input('Digite uma frase: ').strip().lower())"
      ],
      "metadata": {
        "id": "DYm0_UwS8ih6",
        "colab": {
          "base_uri": "https://localhost:8080/"
        },
        "outputId": "fc7e87c4-e084-4302-af01-8a2fc86d6f9e"
      },
      "execution_count": null,
      "outputs": [
        {
          "output_type": "stream",
          "name": "stdout",
          "text": [
            "Digite uma frase:              WEIANJUDJAWN          \n",
            "weianjudjawn\n"
          ]
        }
      ]
    },
    {
      "cell_type": "markdown",
      "source": [
        "#### Questão 8\n",
        "\n",
        "Crie um código que solicite uma frase à pessoa usuária e imprima a mesma frase com todas as vogais “`e`” trocadas pela letra “`f`”."
      ],
      "metadata": {
        "id": "UKATLavs8NfI"
      }
    },
    {
      "cell_type": "code",
      "source": [
        "frase = input('Digite uma frase: ')\n",
        "print(frase.replace('e', 'f'))"
      ],
      "metadata": {
        "id": "k64C5G5S8iLO",
        "colab": {
          "base_uri": "https://localhost:8080/"
        },
        "outputId": "ce12a07a-1393-46cc-86c3-9d17bd85292f"
      },
      "execution_count": null,
      "outputs": [
        {
          "output_type": "stream",
          "name": "stdout",
          "text": [
            "Digite uma frase: eu nao sei escrever\n",
            "fu nao sfi fscrfvfr\n"
          ]
        }
      ]
    },
    {
      "cell_type": "markdown",
      "source": [
        "#### Questão 9\n",
        "\n",
        "\n",
        "Crie um código que solicite uma frase à pessoa usuária e imprima a mesma frase com todas as vogais “`a`” trocadas pela caractere  “`@`”."
      ],
      "metadata": {
        "id": "n_1SPchw8NdG"
      }
    },
    {
      "cell_type": "code",
      "source": [
        "frase = input('Digite uma frase: ')\n",
        "print(frase.replace('a', '@'))"
      ],
      "metadata": {
        "id": "msaDNm_p8h0D",
        "colab": {
          "base_uri": "https://localhost:8080/"
        },
        "outputId": "81655acf-a425-4a59-8b9a-376f971e300e"
      },
      "execution_count": null,
      "outputs": [
        {
          "output_type": "stream",
          "name": "stdout",
          "text": [
            "Digite uma frase: aaaaaa\n",
            "@@@@@@\n"
          ]
        }
      ]
    },
    {
      "cell_type": "markdown",
      "source": [
        "#### Questão 10\n",
        "\n",
        "\n",
        "Crie um código que solicite uma frase à pessoa usuária e imprima a mesma frase com todas as consoantes “`s`” trocadas pelo caractere  “`$`”."
      ],
      "metadata": {
        "id": "H3sTTjqI8Naa"
      }
    },
    {
      "cell_type": "code",
      "source": [
        "frase = input('Digite uma frase: ')\n",
        "print(frase.replace('s', '$'))"
      ],
      "metadata": {
        "id": "RPBIsWT68e-1"
      },
      "execution_count": null,
      "outputs": []
    },
    {
      "cell_type": "markdown",
      "source": [
        "## Aula 3 - Estruturas condicionais"
      ],
      "metadata": {
        "id": "XGePe4GD2I59"
      }
    },
    {
      "cell_type": "markdown",
      "source": [
        "### Aquecendo na programação"
      ],
      "metadata": {
        "id": "Pr9HTW0UHCdD"
      }
    },
    {
      "cell_type": "markdown",
      "source": [
        "#### Questão 1\n",
        "Escreva um programa que peça à pessoa usuária para fornecer dois números e exibir o número maior."
      ],
      "metadata": {
        "id": "xBZHqhVg80Fy"
      }
    },
    {
      "cell_type": "code",
      "source": [
        "numero1 = float(input('Digite o primeiro número: '))\n",
        "numero2 = float(input('Digite o segundo número: '))\n",
        "maior_numero = numero1 if numero1 > numero2 else numero2\n",
        "print(maior_numero)"
      ],
      "metadata": {
        "id": "GJlGnzjc-xyF",
        "colab": {
          "base_uri": "https://localhost:8080/"
        },
        "outputId": "36b99ea0-2026-4a16-9cfd-679451f4dece"
      },
      "execution_count": null,
      "outputs": [
        {
          "output_type": "stream",
          "name": "stdout",
          "text": [
            "Digite o primeiro número20\n",
            "Digite o segundo número10\n",
            "20\n"
          ]
        }
      ]
    },
    {
      "cell_type": "markdown",
      "source": [
        "#### Questão 2\n",
        "Escreva um programa que solicite o percentual de crescimento de produção de uma empresa e informe se houve um crescimento (porcentagem positiva) ou decrescimento (porcentagem negativa)."
      ],
      "metadata": {
        "id": "H4sgN7dyHNJF"
      }
    },
    {
      "cell_type": "code",
      "source": [
        "percentual = float(input('Digite o percentual de crescimento de produção da empresa: '))\n",
        "crescimento = 'positivo' if percentual >= 0 else 'negativo'\n",
        "print(f'O crescimento da empresa foi {crescimento}')"
      ],
      "metadata": {
        "id": "-2_Ry5XJ-yZW",
        "colab": {
          "base_uri": "https://localhost:8080/"
        },
        "outputId": "8b9cb178-2686-4358-eea4-91749449f919"
      },
      "execution_count": null,
      "outputs": [
        {
          "output_type": "stream",
          "name": "stdout",
          "text": [
            "Digite o percentual de crescimento de produção da empresa: 80\n",
            "O crescimento da empresa foi positivo\n"
          ]
        }
      ]
    },
    {
      "cell_type": "markdown",
      "source": [
        "#### Questão 3\n",
        "Escreva um programa que determine se uma letra fornecida pela pessoa usuária é uma vogal ou consoante."
      ],
      "metadata": {
        "id": "a_mzNOBDHNny"
      }
    },
    {
      "cell_type": "code",
      "source": [
        "letra = input('Digite uma letra: ')\n",
        "if letra.upper() == 'A' or letra.upper() == 'E' or letra.upper() == 'I' or letra.upper() == 'O' or letra.upper() == 'U':\n",
        "  print('Você digitou uma vogal')\n",
        "else:\n",
        "  print('Você digitou uma consoante')"
      ],
      "metadata": {
        "id": "NbgndVyg-zFJ",
        "colab": {
          "base_uri": "https://localhost:8080/"
        },
        "outputId": "5c1e7d35-37af-42d9-e9c2-46f64ff1f95b"
      },
      "execution_count": null,
      "outputs": [
        {
          "output_type": "stream",
          "name": "stdout",
          "text": [
            "Digite uma letrab\n",
            "Você digitou uma consoante\n"
          ]
        }
      ]
    },
    {
      "cell_type": "markdown",
      "source": [
        "#### Questão 4\n",
        "Escreva um programa que leia valores médios de preços de um modelo de carro por 3 anos consecutivos e exiba o valor mais alto e mais baixo entre esses três anos."
      ],
      "metadata": {
        "id": "mofMRjSZHP99"
      }
    },
    {
      "cell_type": "code",
      "source": [
        "primeiro_valor = 40000\n",
        "segundo_valor = 41200\n",
        "terceiro_valor = 40760\n",
        "\n",
        "print(f'Maior valor: {max(primeiro_valor, segundo_valor, terceiro_valor)}')\n",
        "print(f'Menor valor: {min(primeiro_valor, segundo_valor, terceiro_valor)}')"
      ],
      "metadata": {
        "id": "TX--d3k9-02c",
        "colab": {
          "base_uri": "https://localhost:8080/"
        },
        "outputId": "0b35f6a6-0621-4399-b751-4332d72abdcd"
      },
      "execution_count": null,
      "outputs": [
        {
          "output_type": "stream",
          "name": "stdout",
          "text": [
            "Maior valor: 41200\n",
            "Menor valor: 40000\n"
          ]
        }
      ]
    },
    {
      "cell_type": "markdown",
      "source": [
        "#### Questão 5\n",
        "Escreva um programa que pergunte sobre o preço de três produtos e indique qual é o produto mais barato para comprar."
      ],
      "metadata": {
        "id": "jY5tIwd-HQzc"
      }
    },
    {
      "cell_type": "code",
      "source": [
        "produto_1 = float(input('Preço do primeiro produto: '))\n",
        "produto_2 = float(input('Preço do segundo produto: '))\n",
        "produto_3 = float(input('Preço do terceiro produto: '))\n",
        "\n",
        "mais_barato = min(produto_1, produto_2, produto_3)\n",
        "\n",
        "if produto_1 == mais_barato:\n",
        "  print('O primeiro produto é o mais barato')\n",
        "elif produto_2 == mais_barato:\n",
        "  print('O segundo produto é o mais barato')\n",
        "else:\n",
        "  print('O terceiro produto é o mais barato')"
      ],
      "metadata": {
        "id": "sYqNh9df-0gk",
        "colab": {
          "base_uri": "https://localhost:8080/"
        },
        "outputId": "ae3f4b47-5929-44c1-c98b-24aa3bfcf0db"
      },
      "execution_count": null,
      "outputs": [
        {
          "output_type": "stream",
          "name": "stdout",
          "text": [
            "Preço do primeiro produto: 1\n",
            "Preço do segundo produto: 1\n",
            "Preço do terceiro produto: 1\n",
            "O primeiro produto é o mais barato\n"
          ]
        }
      ]
    },
    {
      "cell_type": "markdown",
      "source": [
        "#### Questão 6\n",
        "Escreva um programa que leia três números e os exiba em ordem decrescente."
      ],
      "metadata": {
        "id": "1r6aVxtTHR4E"
      }
    },
    {
      "cell_type": "code",
      "source": [
        "numero_1 = float(input('Preço do primeiro numero: '))\n",
        "numero_2 = float(input('Preço do segundo numero: '))\n",
        "numero_3 = float(input('Preço do terceiro numero: '))\n",
        "\n",
        "print(sorted([numero_1, numero_2, numero_3]))"
      ],
      "metadata": {
        "id": "ydOCYUMO-0Hk",
        "colab": {
          "base_uri": "https://localhost:8080/"
        },
        "outputId": "1d14469e-97b0-494b-b5f8-5c1941ca55af"
      },
      "execution_count": null,
      "outputs": [
        {
          "output_type": "stream",
          "name": "stdout",
          "text": [
            "Preço do primeiro numero: 3\n",
            "Preço do segundo numero: 2\n",
            "Preço do terceiro numero: 1\n",
            "[1.0, 2.0, 3.0]\n"
          ]
        }
      ]
    },
    {
      "cell_type": "markdown",
      "source": [
        "#### Questão 7\n",
        "Escreva um programa que pergunte em qual turno a pessoa usuária estuda (\"manhã\", \"tarde\" ou \"noite\") e exiba a mensagem \"Bom Dia!\", \"Boa Tarde!\", \"Boa Noite!\", ou \"Valor Inválido!\", conforme o caso."
      ],
      "metadata": {
        "id": "inW3F-hAHS_X"
      }
    },
    {
      "cell_type": "code",
      "source": [
        "turno = input('Qual turno você estuda: manhã, tarde ou noite? ')\n",
        "if turno.upper() == 'MANHÃ':\n",
        "  print('Bom dia')\n",
        "elif turno.upper() == 'TARDE':\n",
        "  print('Boa tarde')\n",
        "elif turno.upper() == 'NOITE':\n",
        "  print('Boa noite')\n",
        "else:\n",
        "  print(f'{turno.capitalize()} não é um turno válido')"
      ],
      "metadata": {
        "id": "-_q-Pcr_-zth",
        "colab": {
          "base_uri": "https://localhost:8080/"
        },
        "outputId": "5073c1f4-618c-429b-b456-bc02ec9bfea6"
      },
      "execution_count": null,
      "outputs": [
        {
          "output_type": "stream",
          "name": "stdout",
          "text": [
            "Qual turno você estuda: manhã, tarde ou noite? manhã\n",
            "Bom dia\n"
          ]
        }
      ]
    },
    {
      "cell_type": "markdown",
      "source": [
        "#### Questão 8\n",
        "Escreva um programa que peça um número inteiro à pessoa usuária e determine se ele é par ou ímpar. Dica: Você pode utilizar o operador módulo `%`."
      ],
      "metadata": {
        "id": "NCCPF3QqHTw-"
      }
    },
    {
      "cell_type": "code",
      "source": [
        "numero = int(input('Digite um número: '))\n",
        "if numero % 2 == 0:\n",
        "  print('É par')\n",
        "else:\n",
        "  print('É ímpar')"
      ],
      "metadata": {
        "id": "OmZJt1nQ-3e6",
        "colab": {
          "base_uri": "https://localhost:8080/"
        },
        "outputId": "a1a26d05-ae75-485f-9009-ca498219f1e4"
      },
      "execution_count": null,
      "outputs": [
        {
          "output_type": "stream",
          "name": "stdout",
          "text": [
            "Digite um número: 2\n",
            "É par\n"
          ]
        }
      ]
    },
    {
      "cell_type": "markdown",
      "source": [
        "#### Questão 9\n",
        "Escreva um programa que peça um número à pessoa usuária e informe se ele é inteiro ou decimal."
      ],
      "metadata": {
        "id": "h93Ck1tQHUwE"
      }
    },
    {
      "cell_type": "code",
      "source": [
        "numero = float(input('Digite um número: '))\n",
        "if numero % 2 == 0 or numero % 2 == 1:\n",
        "  print('É inteiro')\n",
        "else:\n",
        "  print('É decimal')"
      ],
      "metadata": {
        "id": "sLMlZcx8-20N",
        "colab": {
          "base_uri": "https://localhost:8080/"
        },
        "outputId": "9f1de1d6-da15-454d-b6c0-877630f32adc"
      },
      "execution_count": null,
      "outputs": [
        {
          "output_type": "stream",
          "name": "stdout",
          "text": [
            "Digite um número: 3.1\n",
            "É decimal\n"
          ]
        }
      ]
    },
    {
      "cell_type": "markdown",
      "source": [
        "### Momento dos projetos"
      ],
      "metadata": {
        "id": "bKdXSK1SH_pF"
      }
    },
    {
      "cell_type": "markdown",
      "source": [
        "#### Questão 10\n",
        "Um programa deve ser escrito para ler dois números e, em seguida, perguntar à pessoa usuária qual operação ele deseja realizar. O resultado da operação deve incluir informações sobre o número - se é par ou ímpar, positivo ou negativo e inteiro ou decimal."
      ],
      "metadata": {
        "id": "WBlEyyzsHV86"
      }
    },
    {
      "cell_type": "code",
      "source": [
        "n1 = float(input('Digite o primeiro número: '))\n",
        "n2 = float(input('Digite o segundo número: '))\n",
        "operacao = input('Operação a realizar [Adição, Subtração, Multiplicação ou Divisão]: ').upper()\n",
        "match operacao:\n",
        "  case 'ADIÇÃO':\n",
        "    n3 = n1 + n2\n",
        "  case 'SUBTRAÇÃO':\n",
        "    n3 = n1 - n2\n",
        "  case 'MULTIPLICAÇÃO':\n",
        "    n3 = n1 * n2\n",
        "  case 'DIVISÃO':\n",
        "    n3 = n1 / n2\n",
        "posit_negat = 'positivo' if n3 >= 0 else 'negativo'\n",
        "int_dec = 'inteiro' if n3 % 2 == 0 or n3 % 2 == 1 else 'decimal'\n",
        "par_impar = ''\n",
        "if int_dec == 'inteiro':\n",
        "  par_impar = 'par, ' if n3 % 2 == 0 else 'ímpar, '\n",
        "print(f'O resultado da operação ({n3}) é um número {par_impar}{posit_negat} e {int_dec}.')"
      ],
      "metadata": {
        "id": "3jmahZ0f-2gq",
        "colab": {
          "base_uri": "https://localhost:8080/"
        },
        "outputId": "3d36c970-41a1-4243-b078-affed1d03a01"
      },
      "execution_count": null,
      "outputs": [
        {
          "output_type": "stream",
          "name": "stdout",
          "text": [
            "Digite o primeiro número: 2\n",
            "Digite o segundo número: 1\n",
            "Operação a realizar [Adição, Subtração, Multiplicação ou Divisão]: divisão\n",
            "O resultado da operação (2.0) é um número par, positivo e inteiro.\n"
          ]
        }
      ]
    },
    {
      "cell_type": "markdown",
      "source": [
        "#### Questão 11\n",
        "Escreva um programa que peça à pessoa usuária três números que representam os lados de um triângulo. O programa deve informar se os valores podem ser utilizados para formar um triângulo e, caso afirmativo, se ele é equilátero, isósceles ou escaleno. Tenha em mente algumas dicas:\n",
        "- Três lados formam um triângulo quando a soma de quaisquer dois lados for maior que o terceiro;\n",
        "- Triângulo Equilátero: três lados iguais;\n",
        "- Triângulo Isósceles: quaisquer dois lados iguais;\n",
        "- Triângulo Escaleno: três lados diferentes;\n"
      ],
      "metadata": {
        "id": "VdnlULxHHW19"
      }
    },
    {
      "cell_type": "code",
      "source": [
        "l1 = input('Digite um lado do triângulo: ')\n",
        "l2 = input('Digite outro lado do triângulo: ')\n",
        "l3 = input('Digite mais um lado do triângulo: ')\n",
        "if l1 + l2 > l3 or l1 + l3 > l2 or l2 + l3 > l1:\n",
        "  if l1 == l2 and l2 == l3:\n",
        "    print('Esse triângulo é equilátero.')\n",
        "  elif l1 == l2 or l1 == l3 or l2 == l3:\n",
        "    print('Esse triângulo é isósceles')\n",
        "  else:\n",
        "    print('Esse triângulo é escaleno')\n",
        "else:\n",
        "  print('Não é possível formar um triângulo com esses 3 lados.')"
      ],
      "metadata": {
        "id": "0z73sqUO-2Pw",
        "colab": {
          "base_uri": "https://localhost:8080/"
        },
        "outputId": "a0c953e0-66b3-4910-c63d-45ec80e1cee5"
      },
      "execution_count": null,
      "outputs": [
        {
          "output_type": "stream",
          "name": "stdout",
          "text": [
            "Digite um lado do triângulo: 5\n",
            "Digite outro lado do triângulo: 4\n",
            "Digite mais um lado do triângulo: 4\n",
            "Esse triângulo é isósceles\n"
          ]
        }
      ]
    },
    {
      "cell_type": "markdown",
      "source": [
        "#### Questão 12\n",
        "Um estabelecimento está vendendo combustíveis com descontos variados. Para o etanol, se a quantidade comprada for até 15 litros, o desconto será de 2% por litro. Caso contrário, será de 4% por litro. Para o diesel, se a quantidade comprada for até 15 litros, o desconto será de 3% por litro. Caso contrário, será de 5% por litro. O preço do litro de diesel é R\\$ 2,00 e o preço do litro de etanol é R\\$ 1,70. Escreva um programa que leia a quantidade de litros vendidos e o tipo de combustível (E para etanol e D para diesel) e calcule o valor a ser pago pelo cliente. Tenha em mente algumas dicas:\n",
        "\n",
        "- O do valor do desconto será a multiplicação entre preço do litro, quantidade de litros e o valor do desconto.\n",
        "- O valor a ser pago por um cliente será o resultado da multiplicação do preço do litro pela quantidade de litros menos o valor de desconto resultante do cálculo.\n"
      ],
      "metadata": {
        "id": "_PpEpOugHXwZ"
      }
    },
    {
      "cell_type": "code",
      "source": [
        "preco_diesel = 2\n",
        "preco_etanol = 1.7\n",
        "litros = 0\n",
        "\n",
        "tipo = input('Qual tipo de gasolina você gostaria de comprar? [D - Diesel; E - Etanol] ').upper()\n",
        "if tipo == 'D' or tipo == 'E':\n",
        "  litros = float(input('Quantos litros você gostaria de comprar?'))\n",
        "  if tipo == 'D':\n",
        "    if 0 < litros <= 15:\n",
        "      valor_a_pagar = preco_diesel * litros * 0.97\n",
        "    elif litros > 15:\n",
        "      valor_a_pagar = preco_diesel * litros * 0.95\n",
        "    else:\n",
        "      print('A quantidade de litros deve ser positiva')\n",
        "  else:\n",
        "    if 0 < litros <= 15:\n",
        "      valor_a_pagar = preco_etanol * litros * 0.98\n",
        "    elif litros > 15:\n",
        "      valor_a_pagar = preco_etanol * litros * 0.96\n",
        "    else:\n",
        "      print('A quantidade de litros deve ser positiva')\n",
        "else:\n",
        "  print('Tipo de gasolina inexistente.')\n",
        "if litros > 0:\n",
        "  print(f'O valor a ser pago pelo cliente é de R${valor_a_pagar}')"
      ],
      "metadata": {
        "id": "9izoF-0O-1yD",
        "colab": {
          "base_uri": "https://localhost:8080/"
        },
        "outputId": "ca9b8de8-fc5a-4163-c28a-4c3274501fc6"
      },
      "execution_count": null,
      "outputs": [
        {
          "output_type": "stream",
          "name": "stdout",
          "text": [
            "Qual tipo de gasolina você gostaria de comprar? [D - Diesel; E - Etanol] d\n",
            "Quantos litros você gostaria de comprar?0\n",
            "A quantidade de litros digitada deve ser positiva\n"
          ]
        }
      ]
    },
    {
      "cell_type": "markdown",
      "source": [
        "#### Questão 13\n",
        "Em uma empresa de venda de imóveis você precisa criar um código que analise os dados de vendas anuais para ajudar a diretoria na tomada de decisão. O código precisa coletar os dados de quantidade de venda durante os anos de 2022 e 2023 e fazer um cálculo de variação percentual. A partir do valor da variação, deve ser enviada às seguintes sugestões:\n",
        "- Para variação acima de 20%: bonificação para o time de vendas.\n",
        "- Para variação entre 2% e 20%: pequena bonificação para time de vendas.\n",
        "- Para variação entre 2% e -10%: planejamento de políticas de incentivo às vendas.\n",
        "- Para bonificações abaixo de -10%: corte de gastos.\n"
      ],
      "metadata": {
        "id": "s_XS_D1WHY2R"
      }
    },
    {
      "cell_type": "code",
      "source": [
        "vendas_2022 = int(input('Quantos imóveis a empresa vendeu em 2022? '))\n",
        "vendas_2023 = int(input('Quantos imóveis a empresa vendeu em 2023? '))\n",
        "variacao = (vendas_2023 * 100 / vendas_2022) - 100\n",
        "print(f'A variação percentual das vendas de 2022 para 2023 foi de {variacao}%')\n",
        "if variacao > 20:\n",
        "  print('Bonificação para o time de vendas.')\n",
        "elif variacao >= 2:\n",
        "  print('Pequena bonificação para time de vendas.')\n",
        "elif variacao >= -10:\n",
        "  print('Planejamento de políticas de incentivo às vendas.')\n",
        "else:\n",
        "  print('Corte de gastos.')"
      ],
      "metadata": {
        "id": "avQrYlUg-w8f",
        "colab": {
          "base_uri": "https://localhost:8080/"
        },
        "outputId": "ed1d9c31-7223-4e8b-b6a9-3fd5c6f55f33"
      },
      "execution_count": null,
      "outputs": [
        {
          "output_type": "stream",
          "name": "stdout",
          "text": [
            "Quantos imóveis a empresa vendeu em 2022? 100\n",
            "Quantos imóveis a empresa vendeu em 2023? 89\n",
            "A variação percentual das vendas de 2022 para 2023 foi de -11.0%\n",
            "Corte de gastos.\n"
          ]
        }
      ]
    },
    {
      "cell_type": "markdown",
      "source": [
        "## Aula 4 - Estruturas de repetição"
      ],
      "metadata": {
        "id": "AuaWh4-d2Itt"
      }
    },
    {
      "cell_type": "markdown",
      "source": [
        "### Aquecendo na programação"
      ],
      "metadata": {
        "id": "6MSqU0sIJRdD"
      }
    },
    {
      "cell_type": "markdown",
      "source": [
        "#### Questão 1\n",
        "Escreva um programa que peça dois números inteiros e imprima todos os números inteiros entre eles."
      ],
      "metadata": {
        "id": "9eGGyCnAJRdQ"
      }
    },
    {
      "cell_type": "code",
      "source": [
        "primeiro = int(input('Digite um número inteiro: '))\n",
        "segundo = int(input('Digite outro número inteiro: '))\n",
        "print(f'Todos os números inteiros entre {primeiro} e {segundo}:')\n",
        "controle = 1 if segundo > primeiro else -1\n",
        "for numero in range(primeiro, segundo + controle, controle):\n",
        "  print(numero)"
      ],
      "metadata": {
        "id": "ID1oc1hxJRdQ",
        "colab": {
          "base_uri": "https://localhost:8080/"
        },
        "outputId": "b2c8ecc7-43a2-46f1-fdbd-9c2a44f5b937"
      },
      "execution_count": null,
      "outputs": [
        {
          "output_type": "stream",
          "name": "stdout",
          "text": [
            "Digite um número inteiro: 10\n",
            "Digite outro número inteiro: 1\n",
            "Todos os números inteiros entre 10 e 1:\n",
            "10\n",
            "9\n",
            "8\n",
            "7\n",
            "6\n",
            "5\n",
            "4\n",
            "3\n",
            "2\n",
            "1\n"
          ]
        }
      ]
    },
    {
      "cell_type": "markdown",
      "source": [
        "#### Questão 2\n",
        "Escreva um programa para calcular quantos dias levará para a colônia de uma bactéria A ultrapassar ou igualar a colônia de uma bactéria B, com base nas taxas de crescimento de 3% e 1,5% respectivamente. Considere que a colônia A inicia com 4 elementos e a colônia B com 10 elementos."
      ],
      "metadata": {
        "id": "mGonEHYCJRdR"
      }
    },
    {
      "cell_type": "code",
      "source": [
        "qtd_a = 4\n",
        "qtd_b = 10\n",
        "taxa_a = 1.03\n",
        "taxa_b = 1.015\n",
        "dia = 1\n",
        "while qtd_a < qtd_b:\n",
        "  print(f'Dia: {dia}')\n",
        "  print(f'Quantidade de bactérias da colônia A: {qtd_a}')\n",
        "  print(f'Quantidade de bactérias da colônia A: {qtd_b}')\n",
        "  dia += 1\n",
        "  qtd_a *= taxa_a\n",
        "  qtd_b *= taxa_b\n",
        "print('------------------------------------------------')\n",
        "print(f'Quantidade de bactérias da colônia A: {qtd_a}')\n",
        "print(f'Quantidade de bactérias da colônia A: {qtd_b}')\n",
        "print(f'Após {dia} dias, a colônia A passou a colônia B')"
      ],
      "metadata": {
        "id": "wM6FJuoqJRdR"
      },
      "execution_count": null,
      "outputs": []
    },
    {
      "cell_type": "markdown",
      "source": [
        "#### Questão 3\n",
        "Para tratar uma quantidade de 15 dados de avaliações de pessoas usuárias de um serviço da empresa, precisamos verificar se as notas são válidas. Então, escreva um programa que vai receber a nota de 0 a 5 de todos os dados e verificar se é um valor válido. Caso seja inserido uma nota acima de 5 ou abaixo de 0, repita até que a pessoa usuária insira um valor válido."
      ],
      "metadata": {
        "id": "UiOZRlqoJRdR"
      }
    },
    {
      "cell_type": "code",
      "source": [
        "for i in range(0,15):\n",
        "  nota = float(input(f'[{i + 1}] Digite a sua avaliação de 1 (muito ruim) a 5 (muito bom): '))\n",
        "  while nota < 0 or nota > 5:\n",
        "    nota = float(input(f'[{i + 1}] ERRO: É NECESSÁRIO QUE SEJA ENTRE 1 A 5: '))"
      ],
      "metadata": {
        "id": "3TUAhCxcJRdR"
      },
      "execution_count": null,
      "outputs": []
    },
    {
      "cell_type": "markdown",
      "source": [
        "#### Questão 4\n",
        "Desenvolva um programa que leia um conjunto indeterminado de temperaturas em Celsius e faça uma análise. Portanto, escreva um programa que leia temperaturas e informe a média delas. A leitura deve ser encerrada ao ser enviado o valor -273°C."
      ],
      "metadata": {
        "id": "ABv3KObGJRdR"
      }
    },
    {
      "cell_type": "code",
      "source": [
        "temperatura = 0\n",
        "temperaturas_somadas = 0\n",
        "quantidade_temperaturas = 0\n",
        "while temperatura != -273:\n",
        "  temperatura = float(input('Digite uma temperatura em celsius (-273 para encerrar): '))\n",
        "  if temperatura > -273:\n",
        "    temperaturas_somadas += temperatura\n",
        "    quantidade_temperaturas += 1\n",
        "\n",
        "print(f'Média das temperaturas fornecidas: {temperaturas_somadas / quantidade_temperaturas}')"
      ],
      "metadata": {
        "id": "85tBBj5KJRdS",
        "colab": {
          "base_uri": "https://localhost:8080/"
        },
        "outputId": "d7ef05af-8116-4acd-debe-f92da608fbb1"
      },
      "execution_count": null,
      "outputs": [
        {
          "output_type": "stream",
          "name": "stdout",
          "text": [
            "Digite uma temperatura em celsius (-273 para encerrar): 3\n",
            "Digite uma temperatura em celsius (-273 para encerrar): 5\n",
            "Digite uma temperatura em celsius (-273 para encerrar): -273\n",
            "Média das temperaturas fornecidas: 4.0\n"
          ]
        }
      ]
    },
    {
      "cell_type": "markdown",
      "source": [
        "#### Questão 5\n",
        "Escreva um programa que calcule o fatorial de um número inteiro fornecido pela pessoa usuária. O fatorial de um número inteiro é a multiplicação desse número por todos os seus antecessores até o número 1. Por exemplo, o fatorial de 5 é 5 x 4 x 3 x 2 x 1 = 120."
      ],
      "metadata": {
        "id": "IjkbAfGcJRdS"
      }
    },
    {
      "cell_type": "code",
      "source": [
        "numero = int(input('Você quer o fatorial do número...: '))\n",
        "sup_fatorial = numero - 1\n",
        "while sup_fatorial > 1:\n",
        "  numero *= sup_fatorial\n",
        "  sup_fatorial -= 1\n",
        "print(f'O fatorial desse número é {numero}')"
      ],
      "metadata": {
        "id": "7RTH8o0HJRdS",
        "colab": {
          "base_uri": "https://localhost:8080/"
        },
        "outputId": "f91d337a-d1bb-48ce-e324-0db55303a832"
      },
      "execution_count": null,
      "outputs": [
        {
          "output_type": "stream",
          "name": "stdout",
          "text": [
            "Você quer o fatorial do número...: 4\n",
            "O fatorial desse número é 24\n"
          ]
        }
      ]
    },
    {
      "cell_type": "markdown",
      "source": [
        "### Momento dos projetos"
      ],
      "metadata": {
        "id": "oGNKuQjsJRdT"
      }
    },
    {
      "cell_type": "markdown",
      "source": [
        "#### Questão 6\n",
        "Escreva um programa que gere a tabuada de um número inteiro de 1 a 10, de acordo com a escolha da pessoa usuária. Como exemplo, para o número 2, a tabuada deve ser mostrada no seguinte formato:\n",
        "```\n",
        "Tabuada do 2:\n",
        "2 x 1 = 2\n",
        "2 x 2 = 4\n",
        "[...]\n",
        "2 x 10 = 20\n",
        "```"
      ],
      "metadata": {
        "id": "ODxaTUYmJRdS"
      }
    },
    {
      "cell_type": "code",
      "source": [
        "numero = int(input('Você quer a tabuada do número...: '))\n",
        "tabuando = 1\n",
        "print(f'Tabuada do {numero}:')\n",
        "while tabuando <= 10:\n",
        "  print(f'{numero} x {tabuando} = {numero * tabuando}')\n",
        "  tabuando += 1"
      ],
      "metadata": {
        "id": "lkTlbxPIJRdS",
        "colab": {
          "base_uri": "https://localhost:8080/"
        },
        "outputId": "42ac2921-9c76-4d82-85f8-8d68fa83c8fb"
      },
      "execution_count": null,
      "outputs": [
        {
          "output_type": "stream",
          "name": "stdout",
          "text": [
            "Você quer a tabuada do número...: 10\n",
            "Tabuada do 10.0:\n",
            "10.0 x 1 = 10.0\n",
            "10.0 x 2 = 20.0\n",
            "10.0 x 3 = 30.0\n",
            "10.0 x 4 = 40.0\n",
            "10.0 x 5 = 50.0\n",
            "10.0 x 6 = 60.0\n",
            "10.0 x 7 = 70.0\n",
            "10.0 x 8 = 80.0\n",
            "10.0 x 9 = 90.0\n",
            "10.0 x 10 = 100.0\n"
          ]
        }
      ]
    },
    {
      "cell_type": "markdown",
      "source": [
        "#### Questão 7\n",
        "Os números primos possuem várias aplicações dentro da Ciência de Dados, por exemplo, na criptografia e segurança. Um número primo é aquele que é divisível apenas por um e por ele mesmo. Faça um programa que peça um número inteiro e determine se ele é ou não um número primo."
      ],
      "metadata": {
        "id": "LeIbnt8VJRdS"
      }
    },
    {
      "cell_type": "code",
      "source": [
        "numero = int(input('Digite um número para saber se ele é primo: '))\n",
        "divisor = 1\n",
        "quantidade_divisores = 0\n",
        "while divisor <= numero:\n",
        "  if numero % divisor == 0:\n",
        "    quantidade_divisores += 1\n",
        "  divisor += 1\n",
        "if quantidade_divisores > 2:\n",
        "  print('O número não é primo')\n",
        "else:\n",
        "  print('O número é primo')"
      ],
      "metadata": {
        "id": "2rcNU7twJRdS",
        "colab": {
          "base_uri": "https://localhost:8080/"
        },
        "outputId": "e4513350-84ca-472b-f131-6ede722d7703"
      },
      "execution_count": null,
      "outputs": [
        {
          "output_type": "stream",
          "name": "stdout",
          "text": [
            "Digite um número para saber se ele é primo: 27\n",
            "O número não é primo\n"
          ]
        }
      ]
    },
    {
      "cell_type": "markdown",
      "source": [
        "#### Questão 8\n",
        "Vamos entender a distribuição de idades de pensionistas de uma empresa de previdência. Escreva um programa que leia as idades de uma quantidade não informada de clientes e mostre a distribuição em intervalos de [0-25], [26-50], [51-75] e [76-100]. Encerre a entrada de dados com um número negativo."
      ],
      "metadata": {
        "id": "QTwb6QaCJRdT"
      }
    },
    {
      "cell_type": "code",
      "source": [
        "idade = 0\n",
        "intervalo_25 = 0\n",
        "intervalo_50 = 0\n",
        "intervalo_75 = 0\n",
        "intervalo_100 = 0\n",
        "while idade >= 0:\n",
        "  idade = int(input('Digite sua idade (número negativo para encerrar): '))\n",
        "  if idade >= 0:\n",
        "    if idade <= 25:\n",
        "      intervalo_25 += 1\n",
        "    elif idade <= 50:\n",
        "      intervalo_50 += 1\n",
        "    elif idade <= 75:\n",
        "      intervalo_75 += 1\n",
        "    elif idade <= 100:\n",
        "      intervalo_100 += 1\n",
        "  else:\n",
        "    print(f'Quantidade de pensionistas entre 0 e 25 anos: {intervalo_25}')\n",
        "    print(f'Quantidade de pensionistas entre 0 e 50 anos: {intervalo_50}')\n",
        "    print(f'Quantidade de pensionistas entre 0 e 75 anos: {intervalo_75}')\n",
        "    print(f'Quantidade de pensionistas entre 0 e 100 anos: {intervalo_100}')"
      ],
      "metadata": {
        "id": "4IAhaDmYJRdT",
        "colab": {
          "base_uri": "https://localhost:8080/"
        },
        "outputId": "70bb06b6-036b-4ed7-feac-3833d52e9ffe"
      },
      "execution_count": null,
      "outputs": [
        {
          "output_type": "stream",
          "name": "stdout",
          "text": [
            "Digite sua idade (número negativo para encerrar): 25\n",
            "Digite sua idade (número negativo para encerrar): 50\n",
            "Digite sua idade (número negativo para encerrar): 75\n",
            "Digite sua idade (número negativo para encerrar): 70\n",
            "Digite sua idade (número negativo para encerrar): -2\n",
            "Quantidade de pensionistas entre 0 e 25 anos: 1\n",
            "Quantidade de pensionistas entre 0 e 50 anos: 1\n",
            "Quantidade de pensionistas entre 0 e 75 anos: 2\n",
            "Quantidade de pensionistas entre 0 e 100 anos: 0\n"
          ]
        }
      ]
    },
    {
      "cell_type": "markdown",
      "source": [
        "#### Questão 9\n",
        "Em uma eleição para gerência em uma empresa com 20 funcionários, existem quatro candidatos. Escreva um programa que calcule o vencedor da eleição. A votação ocorreu da seguinte maneira:\n",
        "- Cada funcionário votou em um dos quatro candidatos (representados pelos números 1, 2, 3 e 4).\n",
        "- Também foram contabilizados os votos nulos (representado pelo número 5) e os votos em branco (representado pelo número 6).\n",
        "\n",
        "Ao final da votação, o programa deve exibir o total de votos para cada candidato, o número de votos nulos e o número de votos em branco. Além disso, deve calcular e exibir a porcentagem de votos nulos em relação ao total de votos e a porcentagem de votos em branco em relação ao total de votos."
      ],
      "metadata": {
        "id": "soJCQVwRJRdT"
      }
    },
    {
      "cell_type": "code",
      "source": [
        "nulos = 0\n",
        "brancos = 0\n",
        "c_1 = 0\n",
        "c_2 = 0\n",
        "c_3 = 0\n",
        "c_4 = 0\n",
        "print('=== VOTAÇÃO DA GERÊNCIA DA EMPRESA ===')\n",
        "for i in range(1, 21):\n",
        "  voto = int(input('Você deseja votar em qual candidato? [1, 2, 3, 4, 5 (Nulo) ou 6 (Branco)]'))\n",
        "  if voto == 1:\n",
        "    c_1 += 1\n",
        "  elif voto == 2:\n",
        "    c_2 += 1\n",
        "  elif voto == 3:\n",
        "    c_3 += 1\n",
        "  elif voto == 4:\n",
        "    c_4 += 1\n",
        "  elif voto == 5:\n",
        "    nulos += 1\n",
        "  elif voto == 6:\n",
        "    brancos += 1\n",
        "  else:\n",
        "    print('Opção inválida. Voto desperdiçado.')\n",
        "print(f'Quantidade de votos no candidato 1: {c_1}')\n",
        "print(f'Quantidade de votos no candidato 2: {c_2}')\n",
        "print(f'Quantidade de votos no candidato 3: {c_3}')\n",
        "print(f'Quantidade de votos no candidato 4: {c_4}')\n",
        "print(f'Quantidade de votos nulos: {nulos}')\n",
        "print(f'Quantidade de votos brancos: {brancos}')\n",
        "print('----------')\n",
        "print(f'Percentual de votos nulos: {nulos / (c_1 + c_2 + c_3 + c_4 + nulos + brancos) * 100}%')\n",
        "print(f'Percentual de votos brancos: {brancos / (c_1 + c_2 + c_3 + c_4 + nulos + brancos) * 100}%')"
      ],
      "metadata": {
        "id": "041EFrgG-4gR",
        "colab": {
          "base_uri": "https://localhost:8080/"
        },
        "outputId": "9d15a389-913c-47f2-b3ba-bad98a86d8e0"
      },
      "execution_count": null,
      "outputs": [
        {
          "output_type": "stream",
          "name": "stdout",
          "text": [
            "=== VOTAÇÃO DA GERÊNCIA DA EMPRESA ===\n",
            "Você deseja votar em qual candidato? [1, 2, 3, 4, 5 (Nulo) ou 6 (Branco)]1\n",
            "Você deseja votar em qual candidato? [1, 2, 3, 4, 5 (Nulo) ou 6 (Branco)]1\n",
            "Você deseja votar em qual candidato? [1, 2, 3, 4, 5 (Nulo) ou 6 (Branco)]1\n",
            "Você deseja votar em qual candidato? [1, 2, 3, 4, 5 (Nulo) ou 6 (Branco)]1\n",
            "Você deseja votar em qual candidato? [1, 2, 3, 4, 5 (Nulo) ou 6 (Branco)]1\n",
            "Você deseja votar em qual candidato? [1, 2, 3, 4, 5 (Nulo) ou 6 (Branco)]1\n",
            "Você deseja votar em qual candidato? [1, 2, 3, 4, 5 (Nulo) ou 6 (Branco)]2\n",
            "Você deseja votar em qual candidato? [1, 2, 3, 4, 5 (Nulo) ou 6 (Branco)]2\n",
            "Você deseja votar em qual candidato? [1, 2, 3, 4, 5 (Nulo) ou 6 (Branco)]3\n",
            "Você deseja votar em qual candidato? [1, 2, 3, 4, 5 (Nulo) ou 6 (Branco)]3\n",
            "Você deseja votar em qual candidato? [1, 2, 3, 4, 5 (Nulo) ou 6 (Branco)]3\n",
            "Você deseja votar em qual candidato? [1, 2, 3, 4, 5 (Nulo) ou 6 (Branco)]6\n",
            "Você deseja votar em qual candidato? [1, 2, 3, 4, 5 (Nulo) ou 6 (Branco)]6\n",
            "Você deseja votar em qual candidato? [1, 2, 3, 4, 5 (Nulo) ou 6 (Branco)]6\n",
            "Você deseja votar em qual candidato? [1, 2, 3, 4, 5 (Nulo) ou 6 (Branco)]6\n",
            "Você deseja votar em qual candidato? [1, 2, 3, 4, 5 (Nulo) ou 6 (Branco)]5\n",
            "Você deseja votar em qual candidato? [1, 2, 3, 4, 5 (Nulo) ou 6 (Branco)]5\n",
            "Você deseja votar em qual candidato? [1, 2, 3, 4, 5 (Nulo) ou 6 (Branco)]5\n",
            "Você deseja votar em qual candidato? [1, 2, 3, 4, 5 (Nulo) ou 6 (Branco)]4\n",
            "Você deseja votar em qual candidato? [1, 2, 3, 4, 5 (Nulo) ou 6 (Branco)]4\n",
            "Quantidade de votos no candidato 1: 6\n",
            "Quantidade de votos no candidato 2: 2\n",
            "Quantidade de votos no candidato 3: 3\n",
            "Quantidade de votos no candidato 4: 2\n",
            "Quantidade de votos nulos: 3\n",
            "Quantidade de votos brancos: 4\n",
            "----------\n",
            "Porcentagem de votos nulos: 15.0%\n",
            "Porcentagem de votos brancos: 20.0%\n"
          ]
        }
      ]
    },
    {
      "cell_type": "markdown",
      "source": [
        "## Aula 5 - Estruturas de dados"
      ],
      "metadata": {
        "id": "eijHQiNU2IZ7"
      }
    },
    {
      "cell_type": "markdown",
      "source": [
        "### Aquecendo na programação"
      ],
      "metadata": {
        "id": "92F0bKtBMgd7"
      }
    },
    {
      "cell_type": "markdown",
      "source": [
        "#### Questão 1\n",
        "Faça um programa que tenha a seguinte lista contendo os valores de gastos de uma empresa de papel `[2172.54, 3701.35, 3518.09, 3456.61, 3249.38, 2840.82, 3891.45, 3075.26, 2317.64, 3219.08]`. Com esses valores, faça um programa que calcule a média de gastos. Dica, use as funções built-in [`sum()`](https://docs.python.org/3/library/functions.html#sum) e [`len()`](https://docs.python.org/3/library/functions.html#len)."
      ],
      "metadata": {
        "id": "IypX2ANuMgeC"
      }
    },
    {
      "cell_type": "code",
      "source": [
        "total_gastos = [2172.54, 3701.35, 3518.09, 3456.61, 3249.38, 2840.82, 3891.45, 3075.26, 2317.64, 3219.08]\n",
        "media_gastos = sum(total_gastos) / len(total_gastos)\n",
        "media_gastos"
      ],
      "metadata": {
        "id": "ge3LuFhLMgeD",
        "colab": {
          "base_uri": "https://localhost:8080/"
        },
        "outputId": "4683734e-a80c-4879-d2ed-1d14f315f378"
      },
      "execution_count": null,
      "outputs": [
        {
          "output_type": "execute_result",
          "data": {
            "text/plain": [
              "3144.222"
            ]
          },
          "metadata": {},
          "execution_count": 1
        }
      ]
    },
    {
      "cell_type": "markdown",
      "source": [
        "#### Questão 2\n",
        " Com os mesmos dados da questão anterior, defina quantas compras foram acima de 3000 reais e calcule a porcentagem quanto ao total de compras."
      ],
      "metadata": {
        "id": "xrOeLhQkMgeD"
      }
    },
    {
      "cell_type": "code",
      "source": [
        "qtd_lim = 0\n",
        "for gasto in total_gastos:\n",
        "  if gasto > 3000:\n",
        "    qtd_lim += 1\n",
        "print(f'{qtd_lim * 100 / len(total_gastos)}%')"
      ],
      "metadata": {
        "id": "Ygu5TMZyMgeD",
        "colab": {
          "base_uri": "https://localhost:8080/"
        },
        "outputId": "4cdf24ed-9fbc-441e-8dc2-d7e2266a8454"
      },
      "execution_count": null,
      "outputs": [
        {
          "output_type": "stream",
          "name": "stdout",
          "text": [
            "70.0%\n"
          ]
        }
      ]
    },
    {
      "cell_type": "markdown",
      "source": [
        "#### Questão 3\n",
        "Faça um código que colete em uma lista 5 números inteiros quaisquer e imprima a lista. Exemplo: `[1,4,7,2,4]`."
      ],
      "metadata": {
        "id": "JgCOrE_BMgeD"
      }
    },
    {
      "cell_type": "code",
      "source": [
        "lista_numeros = []\n",
        "for i in range(1, 6):\n",
        "  lista_numeros.append(input('Digite um número: '))\n",
        "for i in lista_numeros:\n",
        "  print(i)"
      ],
      "metadata": {
        "id": "vtM9O1hLMgeD",
        "colab": {
          "base_uri": "https://localhost:8080/"
        },
        "outputId": "2186ce81-4658-477e-9268-371df6d5dca8"
      },
      "execution_count": null,
      "outputs": [
        {
          "output_type": "stream",
          "name": "stdout",
          "text": [
            "Digite um número: 6\n",
            "Digite um número: 2\n",
            "Digite um número: 5\n",
            "Digite um número: 3\n",
            "Digite um número: 4\n",
            "6\n",
            "2\n",
            "5\n",
            "3\n",
            "4\n"
          ]
        }
      ]
    },
    {
      "cell_type": "markdown",
      "source": [
        "#### Questão 4\n",
        "Colete novamente 5 inteiros e imprima a lista em ordem inversa à enviada."
      ],
      "metadata": {
        "id": "p3bTp88HMgeD"
      }
    },
    {
      "cell_type": "code",
      "source": [
        "lista_numeros = []\n",
        "for i in range(1, 6):\n",
        "  lista_numeros.append(input('Digite um número: '))\n",
        "print(lista_numeros[::-1])"
      ],
      "metadata": {
        "id": "-CGwMIyHMgeD",
        "colab": {
          "base_uri": "https://localhost:8080/"
        },
        "outputId": "1b8fd3ef-f962-4ea3-e332-98a945089be6"
      },
      "execution_count": null,
      "outputs": [
        {
          "output_type": "stream",
          "name": "stdout",
          "text": [
            "Digite um número: 1\n",
            "Digite um número: 2\n",
            "Digite um número: 3\n",
            "Digite um número: 4\n",
            "Digite um número: 5\n",
            "['5', '4', '3', '2', '1']\n"
          ]
        }
      ]
    },
    {
      "cell_type": "markdown",
      "source": [
        "#### Questão 5\n",
        "Faça um programa que, ao inserir um número qualquer, criará uma lista contendo todos os números primos entre 1 e o número digitado."
      ],
      "metadata": {
        "id": "eIXd_z1lMgeD"
      }
    },
    {
      "cell_type": "code",
      "source": [
        "lista_primos = []\n",
        "objetivo = int(input('Digite um número maior que 1: '))\n",
        "for numero in range(2, objetivo + 1):\n",
        "  quantidade_multiplos = 0\n",
        "  for auxiliar in range(1, numero + 1):\n",
        "    if numero % auxiliar == 0:\n",
        "      quantidade_multiplos += 1\n",
        "  if quantidade_multiplos == 2:\n",
        "    lista_primos.append(numero)\n",
        "print(lista_primos)"
      ],
      "metadata": {
        "id": "rj_6GHstMgeE",
        "colab": {
          "base_uri": "https://localhost:8080/"
        },
        "outputId": "76bb0b11-dc86-4a05-ee09-2449c12351c3"
      },
      "execution_count": null,
      "outputs": [
        {
          "output_type": "stream",
          "name": "stdout",
          "text": [
            "Digite um número maior que 1: 20\n",
            "[2, 3, 5, 7, 11, 13, 17, 19]\n"
          ]
        }
      ]
    },
    {
      "cell_type": "markdown",
      "source": [
        "#### Questão 6\n",
        "Escreva um programa que peça uma data informando o dia, mês e ano e determine se ela é uma data válida para uma análise."
      ],
      "metadata": {
        "id": "zrbz3ENlMgeE"
      }
    },
    {
      "cell_type": "code",
      "source": [
        "data = input('Digite uma data com o formato DD/MM/AAAA: ')\n",
        "data = data.split('/')\n",
        "dia = int(data[0])\n",
        "mes = int(data[1])\n",
        "ano = int(data[2])\n",
        "if 0 < dia < 31 and (mes == 4 or mes == 6 or mes == 9 or mes == 11):\n",
        "  print('A data inserida é válida para uma análise.')\n",
        "elif 0 < dia < 32 and (mes == 1 or mes == 3 or mes == 5 or mes == 7 or mes == 8 or mes == 10 or mes == 12):\n",
        "  print('A data inserida é válida para uma análise.')\n",
        "elif 0 < dia < 30 and mes == 2 and ano % 4 == 0:\n",
        "  print('A data inserida é válida para uma análise.')\n",
        "elif 0 < dia < 29 and mes == 2:\n",
        "  print('A data inserida é válida para uma análise.')\n",
        "else:\n",
        "  print('Data inválida para análise.')"
      ],
      "metadata": {
        "id": "0eYA8UjTMgeE",
        "colab": {
          "base_uri": "https://localhost:8080/"
        },
        "outputId": "075ad1b6-7eb3-43ae-a5ec-b7e20074b7e4"
      },
      "execution_count": null,
      "outputs": [
        {
          "output_type": "stream",
          "name": "stdout",
          "text": [
            "Digite uma data com o formato DD/MM/AAAA: 31/01/2005\n",
            "A data inserida é válida para uma análise.\n"
          ]
        }
      ]
    },
    {
      "cell_type": "markdown",
      "source": [
        "### Momento dos projetos"
      ],
      "metadata": {
        "id": "ut_4VHdGMgeE"
      }
    },
    {
      "cell_type": "markdown",
      "source": [
        "#### Questão 7\n",
        "Para um estudo envolvendo o nível de multiplicação de bactérias em uma colônia, foi coletado o número de bactérias multiplicadas por dia, com base em um processo de duplicação diária e pode ser observado a seguir: `[1.2, 2.1, 3.3, 5.0, 7.8, 11.3, 16.6, 25.1, 37.8, 56.9]`. Tendo esses valores, faça um código que gere uma lista contendo o percentual de crescimento de bactérias por dia, comparando o número de bactérias em cada dia com o número de bactérias do dia anterior. Dica: para calcular o percentual de crescimento usamos a seguinte equação: `100 * (amostra_atual - amostra_passada) / (amostra_passada)`."
      ],
      "metadata": {
        "id": "G86Z0vD_MgeE"
      }
    },
    {
      "cell_type": "code",
      "source": [
        "bacterias_colonia = [1.2, 2.1, 3.3, 5.0, 7.8, 11.3, 16.6, 25.1, 37.8, 56.9]\n",
        "percentual_crescimento = []\n",
        "for i in range(1, len(bacterias_colonia)):\n",
        "  porcentagem = 100 * (bacterias_colonia[i] - bacterias_colonia[i-1]) / bacterias_colonia[i-1]\n",
        "  percentual_crescimento.append(porcentagem)\n",
        "print(percentual_crescimento)\n"
      ],
      "metadata": {
        "id": "PXNO_CFkMgeE",
        "colab": {
          "base_uri": "https://localhost:8080/"
        },
        "outputId": "24b5fc40-5d61-4460-d8e7-72b4cc8ac1cf"
      },
      "execution_count": null,
      "outputs": [
        {
          "output_type": "stream",
          "name": "stdout",
          "text": [
            "[75.00000000000001, 57.142857142857125, 51.51515151515153, 56.0, 44.87179487179489, 46.90265486725664, 51.20481927710843, 50.59760956175297, 50.52910052910054]\n"
          ]
        }
      ]
    },
    {
      "cell_type": "markdown",
      "source": [
        "#### Questão 8\n",
        "Para uma seleção de produtos alimentícios, precisamos separar o conjunto de IDs dados por números inteiros, sabendo que os produtos com ID par são doces e os com ID ímpar são amargos. Monte um código que colete 10 IDs. Depois, calcule e mostre a quantidade de produtos doces e amargos."
      ],
      "metadata": {
        "id": "p4nxogpnMgeE"
      }
    },
    {
      "cell_type": "code",
      "source": [
        "ids = []\n",
        "doce = 0\n",
        "amargo = 0\n",
        "\n",
        "for i in range(0,10):\n",
        "  ids.append(int(input(f'Digite o {i+1}° ID: ')))\n",
        "\n",
        "for id in ids:\n",
        "  if id % 2 == 0:\n",
        "    doce += 1\n",
        "  else:\n",
        "    amargo += 1\n",
        "\n",
        "print(f'Quantidade de produtos doces: {doce}')\n",
        "print(f'Quantidade de produtos amargos: {amargo}')"
      ],
      "metadata": {
        "id": "WqjO2SZkMgeE"
      },
      "execution_count": null,
      "outputs": []
    },
    {
      "cell_type": "markdown",
      "source": [
        "#### Questão 9\n",
        "Desenvolva um programa que informa a nota de um aluno de acordo com suas respostas. Ele deve pedir a resposta de um aluno para cada questão e é preciso verificar se a resposta foi igual ao gabarito. Cada questão vale um ponto e existem alternativas:  A, B, C ou D.\n",
        "```\n",
        "Gabarito da Prova:\n",
        "01 - D\n",
        "02 - A\n",
        "03 - C\n",
        "04 - B\n",
        "05 - A\n",
        "06 - D\n",
        "07 - C\n",
        "08 - C\n",
        "09 - A\n",
        "10 - B\n",
        "```"
      ],
      "metadata": {
        "id": "t5OrLxV6MgeE"
      }
    },
    {
      "cell_type": "code",
      "source": [
        "gabarito = ['D', 'A', 'C', 'B', 'A', 'D', 'C', 'C', 'A', 'B']\n",
        "respostas_aluno = []\n",
        "questoes_certas = 0\n",
        "for i in range(1, 11):\n",
        "  respostas_aluno.append(input(f'Digite a alternativa da questão {i}: '))\n",
        "  if respostas_aluno[i-1] == gabarito[i-1]:\n",
        "    questoes_certas += 1\n",
        "if questoes_certas == gabarito:\n",
        "  print('Parabéns, você gabaritou a prova! (Nota: 10 pontos)')\n",
        "elif questoes_certas > 0:\n",
        "  print(f'Você acertou {questoes_certas} de {len(gabarito)} questões. (Nota: {10 / len(gabarito) * questoes_certas} pontos)')\n",
        "else:\n",
        "  print('Infelizmente você zerou a prova. (Nota: 0 pontos)')\n"
      ],
      "metadata": {
        "id": "ytIQDJrQMgeE",
        "colab": {
          "base_uri": "https://localhost:8080/"
        },
        "outputId": "dcb5d085-a55d-449a-f9ae-3192aa746383"
      },
      "execution_count": null,
      "outputs": [
        {
          "output_type": "stream",
          "name": "stdout",
          "text": [
            "Digite a alternativa da questão 1: D\n",
            "Digite a alternativa da questão 2: A\n",
            "Digite a alternativa da questão 3: C\n",
            "Digite a alternativa da questão 4: B\n",
            "Digite a alternativa da questão 5: A\n",
            "Digite a alternativa da questão 6: D\n",
            "Digite a alternativa da questão 7: D\n",
            "Digite a alternativa da questão 8: C\n",
            "Digite a alternativa da questão 9: A\n",
            "Digite a alternativa da questão 10: B\n",
            "Você acertou 9 de 10 questões. (9.0 pontos)\n"
          ]
        }
      ]
    },
    {
      "cell_type": "markdown",
      "source": [
        "#### Questão 10\n",
        "Um instituto de meteorologia deseja fazer um estudo de temperatura média de cada mês do ano. Para isso, você precisa fazer um código que colete e armazene essas temperaturas médias em uma lista. Depois, calcule a média anual das temperaturas e mostre todas as temperaturas acima da média anual, e em que mês elas ocorreram, mostrando os meses por extenso: Janeiro, Fevereiro, etc."
      ],
      "metadata": {
        "id": "aSBMzh-AMgeF"
      }
    },
    {
      "cell_type": "code",
      "source": [
        "temperaturas_por_mes = {'Janeiro': 30,\n",
        "                        'Fevereiro': 31,\n",
        "                        'Março': 25,\n",
        "                        'Abril': 28,\n",
        "                        'Maio': 23,\n",
        "                        'Junho': 19,\n",
        "                        'Julho': 13,\n",
        "                        'Agosto': 14,\n",
        "                        'Setembro': 18,\n",
        "                        'Outubro': 22,\n",
        "                        'Novembro': 25,\n",
        "                        'Dezembro': 27}\n",
        "media_anual = sum(temperaturas_por_mes.values()) / len(temperaturas_por_mes)\n",
        "print(f'Média anual de temperatura: {media_anual}')\n",
        "print('Meses com a temperatura média acima da média anual:')\n",
        "for i in temperaturas_por_mes.keys():\n",
        "  if temperaturas_por_mes[i] > media_anual:\n",
        "    print(f' - {i} com seus {temperaturas_por_mes[i]} graus Celsius')"
      ],
      "metadata": {
        "id": "ftj04s2uMgeF",
        "colab": {
          "base_uri": "https://localhost:8080/"
        },
        "outputId": "7a7a887d-e61b-4e83-ca4d-aff5f66d5e13"
      },
      "execution_count": null,
      "outputs": [
        {
          "output_type": "stream",
          "name": "stdout",
          "text": [
            "Média anual de temperatura: 22.916666666666668\n",
            "Meses com a temperatura média acima da média anual:\n",
            " - Janeiro com seus 30 graus Celsius\n",
            " - Fevereiro com seus 31 graus Celsius\n",
            " - Março com seus 25 graus Celsius\n",
            " - Abril com seus 28 graus Celsius\n",
            " - Maio com seus 23 graus Celsius\n",
            " - Novembro com seus 25 graus Celsius\n",
            " - Dezembro com seus 27 graus Celsius\n"
          ]
        }
      ]
    },
    {
      "cell_type": "markdown",
      "source": [
        "#### Questão 11\n",
        "Uma empresa de e-commerce está interessada em analisar as vendas dos seus produtos. Os dados das vendas foram armazenados em um dicionário:\n",
        "```\n",
        "{'Produto A': 300, 'Produto B': 80, 'Produto C': 60,\n",
        " 'Produto D': 200, 'Produto E': 250, 'Produto F': 30}\n",
        "```\n",
        "Escreva um código que calcule o total de vendas e o produto mais vendido."
      ],
      "metadata": {
        "id": "0X8S6s4jMgeF"
      }
    },
    {
      "cell_type": "code",
      "source": [
        "dados_vendas = {'Produto A': 300,\n",
        "                'Produto B': 80,\n",
        "                'Produto C': 60,\n",
        "                'Produto D': 200,\n",
        "                'Produto E': 250,\n",
        "                'Produto F': 30}\n",
        "produto_mais_vendido = 'Produto A'\n",
        "total_vendas = sum(dados_vendas.values())\n",
        "for produto in dados_vendas.keys():\n",
        "  if dados_vendas[produto] >= dados_vendas[produto_mais_vendido]:\n",
        "    produto_mais_vendido = produto\n",
        "print(f'No total, {total_vendas} produtos de tipo A até F foram vendidos.')\n",
        "print(f'O produto mais vendido foi o {produto_mais_vendido}')"
      ],
      "metadata": {
        "id": "Xa3DJLtFMgeF",
        "colab": {
          "base_uri": "https://localhost:8080/"
        },
        "outputId": "569b043f-2389-4bea-d383-030e6f7353c9"
      },
      "execution_count": null,
      "outputs": [
        {
          "output_type": "stream",
          "name": "stdout",
          "text": [
            "No total, 1520 produtos de tipo A até F foram vendidos.\n",
            "O produto mais vendido foi o Produto E\n"
          ]
        }
      ]
    },
    {
      "cell_type": "markdown",
      "source": [
        "#### Questão 12\n",
        "Uma pesquisa de mercado foi feita para decidir qual design de uma marca infantil mais agrada crianças. A pesquisa foi feita e o votos computados podem ser observados abaixo:\n",
        "```\n",
        "'''\n",
        "Tabela de votos da marca\n",
        "Design 1 - 1334 votos\n",
        "Design 2 - 982 votos\n",
        "Design 3 - 1751 votos\n",
        "Design 4 - 210 votos\n",
        "Design 5 - 1811 votos\n",
        "'''\n",
        "```\n",
        "Adapte os dados fornecidos a você para uma estrutura de dicionário e a partir dele, informe o design vencedor e a porcentagem de votos recebidos.\n"
      ],
      "metadata": {
        "id": "nrEwf_1ZMgeF"
      }
    },
    {
      "cell_type": "code",
      "source": [
        "tabela_votos = {'Design 1': 1334,\n",
        "                'Design 2': 982,\n",
        "                'Design 3': 1751,\n",
        "                'Design 4': 210,\n",
        "                'Design 5': 1811}\n",
        "mais_votado = 'Design 1'\n",
        "total_votos = sum(tabela_votos.values())\n",
        "for voto in tabela_votos.keys():\n",
        "  if tabela_votos[voto] >= tabela_votos[mais_votado]:\n",
        "    mais_votado = voto\n",
        "percentual = tabela_votos[mais_votado] * 100 / total_votos\n",
        "print('O design mais votado foi o %s, com %.2f%c dos votos' % (mais_votado, percentual, '%'))"
      ],
      "metadata": {
        "id": "MRPcGR-_MgeF",
        "colab": {
          "base_uri": "https://localhost:8080/"
        },
        "outputId": "c07640cf-40d3-4fb5-807f-7c759dacb377"
      },
      "execution_count": null,
      "outputs": [
        {
          "output_type": "stream",
          "name": "stdout",
          "text": [
            "O design mais votado foi o Design 5, com 29.75% dos votos\n"
          ]
        }
      ]
    },
    {
      "cell_type": "markdown",
      "source": [
        "#### Questão 13\n",
        "Os funcionários de um setor da empresa que você trabalha vão receber um abono correspondente a 10% do seu salário devido ao ótimo desempenho do time. O setor financeiro solicitou sua ajuda para a verificação das consequências financeiras que esse abono irá gerar nos recursos. Assim, foi encaminhada para você uma lista com os salários que receberão o abono: `[1172, 1644, 2617, 5130, 5532, 6341, 6650, 7238, 7685, 7782, 7903]`. O abono de cada funcionário não pode ser inferior a 200. Em código, transforme cada um dos salários em chaves de um dicionário e o abono de cada salário no elemento. Depois, informe o total de gastos com o abono, quantos funcionários receberam o abono mínimo e qual o maior valor de abono fornecido.\n"
      ],
      "metadata": {
        "id": "HRTFFzKIMgeF"
      }
    },
    {
      "cell_type": "code",
      "source": [
        "salarios_abonos = {1172 : 0, 1644 : 0, 2617 : 0, 5130 : 0, 5532 : 0, 6341 : 0, 6650 : 0, 7238 : 0, 7685 : 0, 7782 : 0, 7903 : 0}\n",
        "qtd_abono_minimo = 0\n",
        "maior_abono = 0\n",
        "for salario in salarios_abonos.keys():\n",
        "  salarios_abonos[salario] = salario * 0.1 if salario * 0.1 >= 200 else 200\n",
        "  if salarios_abonos[salario] == 200:\n",
        "    qtd_abono_minimo += 1\n",
        "  if salarios_abonos[salario] > maior_abono:\n",
        "    maior_abono = salarios_abonos[salario]\n",
        "print(f'{qtd_abono_minimo} funcionários receberam o abono mínimo, enquanto o maior abono foi de {round(maior_abono, 2)} reais.')"
      ],
      "metadata": {
        "id": "QsDSCua42bLB",
        "colab": {
          "base_uri": "https://localhost:8080/"
        },
        "outputId": "6a8c3160-c087-4d8c-a91c-b88882a90bee"
      },
      "execution_count": null,
      "outputs": [
        {
          "output_type": "stream",
          "name": "stdout",
          "text": [
            "2 funcionários receberam o abono mínimo, enquanto o maior abono foi de 790.3 reais.\n"
          ]
        }
      ]
    },
    {
      "cell_type": "markdown",
      "source": [
        "#### Questão 14\n",
        "Uma equipe de cientistas de dados está estudando a diversidade biológica em uma floresta. A equipe fez a coleta de informações sobre o número de espécies de plantas e animais em cada área da floresta e armazenaram essas informações em um dicionário. Nele, a chave descreve a área dos dados e os valores nas listas correspondem às espécies de plantas e animais nas áreas, respectivamente.\n",
        "```\n",
        "{'Área Norte': [2819, 7236],\n",
        " 'Área Leste': [1440, 9492],\n",
        " 'Área Sul': [5969, 7496],\n",
        " 'Área Oeste': [14446, 49688],\n",
        " 'Área Centro': [22558, 45148]}\n",
        "```\n",
        "Escreva um código para calcular a média de espécies por área e identificar a área com a maior diversidade biológica. Dica: use as funções built-in [`sum()`](https://docs.python.org/3/library/functions.html#sum) e [`len()`](https://docs.python.org/3/library/functions.html#len).\n"
      ],
      "metadata": {
        "id": "6dEXZEwjMlWy"
      }
    },
    {
      "cell_type": "code",
      "source": [
        "qtd_plantas_por_area = {'Área Norte': [2819, 7236],\n",
        "                        'Área Leste': [1440, 9492],\n",
        "                        'Área Sul': [5969, 7496],\n",
        "                        'Área Oeste': [14446, 49688],\n",
        "                        'Área Centro': [22558, 45148]}\n",
        "medias_especies = {}\n",
        "maior_diversidade = 'Área Norte'\n",
        "for area in qtd_plantas_por_area:\n",
        "  medias_especies[area] = sum(qtd_plantas_por_area[area]) / len(qtd_plantas_por_area[area])\n",
        "  if medias_especies[area] > medias_especies[maior_diversidade]:\n",
        "    maior_diversidade = area\n",
        "print('Média de espécies por área:')\n",
        "print(medias_especies)\n",
        "print(f'Área com maior diversidade biológica: {maior_diversidade}')"
      ],
      "metadata": {
        "id": "eQnOUDfYMlWy",
        "colab": {
          "base_uri": "https://localhost:8080/"
        },
        "outputId": "859564b8-207e-4ab0-c9ed-bc1d35f054dc"
      },
      "execution_count": null,
      "outputs": [
        {
          "output_type": "stream",
          "name": "stdout",
          "text": [
            "Média de espécies por área:\n",
            "{'Área Norte': 5027.5, 'Área Leste': 5466.0, 'Área Sul': 6732.5, 'Área Oeste': 32067.0, 'Área Centro': 33853.0}\n",
            "Área com maior diversidade biológica: Área Centro\n"
          ]
        }
      ]
    },
    {
      "cell_type": "markdown",
      "source": [
        "#### Questão 15\n",
        "O setor de RH da sua empresa te pediu uma ajuda para analisar as idades dos funcionários de 4 setores da empresa. Para isso, ele te forneceu os seguintes dados:\n",
        "```\n",
        "{'Setor A': [22, 26, 30, 30, 35, 38, 40, 56, 57, 65],\n",
        " 'Setor B': [22, 24, 26, 33, 41, 49, 50, 54, 60, 64],\n",
        " 'Setor C': [23, 26, 26, 29, 34, 35, 36, 41, 52, 56],\n",
        " 'Setor D': [19, 20, 25, 27, 34, 39, 42, 44, 50, 65]}\n",
        "```\n",
        "Sabendo que cada setor tem 10 funcionários, construa um código que calcule a média de idade de cada setor, a idade média geral entre todos os setores e quantas pessoas estão acima da idade média geral.\n"
      ],
      "metadata": {
        "id": "r0RW2Sy_MlWy"
      }
    },
    {
      "cell_type": "code",
      "source": [
        "idades_por_setor = {'Setor A': [22, 26, 30, 30, 35, 38, 40, 56, 57, 65],\n",
        "                    'Setor B': [22, 24, 26, 33, 41, 49, 50, 54, 60, 64],\n",
        "                    'Setor C': [23, 26, 26, 29, 34, 35, 36, 41, 52, 56],\n",
        "                    'Setor D': [19, 20, 25, 27, 34, 39, 42, 44, 50, 65]}\n",
        "medias_idades = {}\n",
        "media_geral = 0\n",
        "qtd_pessoas_acima_da_media = 0\n",
        "for idade in idades_por_setor:\n",
        "  medias_idades[idade] = sum(idades_por_setor[idade]) / len(idades_por_setor[idade])\n",
        "for idade in idades_por_setor.values():\n",
        "  for i in range(0, 10):\n",
        "    if idade[i] > sum(medias_idades.values()) / 4:\n",
        "      qtd_pessoas_acima_da_media += 1\n",
        "print('Média de idade por setor:')\n",
        "print(medias_idades)\n",
        "print('Média de idade geral:')\n",
        "print(sum(medias_idades.values()) / 4)\n",
        "print(f'{qtd_pessoas_acima_da_media} pessoas estão acima da média geral de idade.')"
      ],
      "metadata": {
        "id": "wCiwyKP3MmTz",
        "colab": {
          "base_uri": "https://localhost:8080/"
        },
        "outputId": "38ddb554-89d0-4830-e6d3-f31be6eccd40"
      },
      "execution_count": null,
      "outputs": [
        {
          "output_type": "stream",
          "name": "stdout",
          "text": [
            "Média de idade por setor:\n",
            "{'Setor A': 39.9, 'Setor B': 42.3, 'Setor C': 35.8, 'Setor D': 36.5}\n",
            "Média de idade geral:\n",
            "38.625\n",
            "18 pessoas estão acima da média geral de idade.\n"
          ]
        }
      ]
    }
  ]
}